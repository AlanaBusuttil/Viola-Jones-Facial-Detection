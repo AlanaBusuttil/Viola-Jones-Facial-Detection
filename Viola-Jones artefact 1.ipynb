{
 "cells": [
  {
   "cell_type": "code",
   "execution_count": null,
   "metadata": {},
   "outputs": [],
   "source": [
    "import numpy as np\n",
    "import cv2\n",
    "import os\n",
    "from time import time \n",
    "#importing from github\n",
    "#https://github.com/Itseez/opencv/blob/master/data/haarcascades/haarcascade_frontalface_default.xml\n",
    "face_cascade = cv2.CascadeClassifier('haarcascade_frontalface_default.xml')\n",
    "\n",
    "#reading img via cv2\n",
    "i=1\n",
    "while i<24:\n",
    "    img = cv2.imread('facesandnonfaces/{}.jpg'.format(i))\n",
    "    #converting image to grayscale\n",
    "    gray = cv2.cvtColor(img, cv2.COLOR_BGR2GRAY)\n",
    "    cv2.waitKey()\n",
    "    \n",
    "    faces = face_cascade.detectMultiScale(gray, 1.3, 5)\n",
    "    loop_time = time()\n",
    "    if len(faces)>0:\n",
    "        print(\"face/s detected in number \",i)\n",
    "        cv2.imwrite('positive/{}.jpg'.format(loop_time), img)\n",
    "        i=i+1\n",
    "    else:\n",
    "        print(\"face/s not detected in number \",i)\n",
    "        cv2.imwrite('negative/{}.jpg'.format(loop_time), img)\n",
    "        i=i+1\n",
    "        \n"
   ]
  },
  {
   "cell_type": "code",
   "execution_count": null,
   "metadata": {},
   "outputs": [],
   "source": [
    "import numpy as np\n",
    "import cv2\n",
    "import os\n",
    "from time import time \n",
    "\n",
    "def generate_negative_description_file():\n",
    "    # open the output file for writing. will overwrite all existing data in there\n",
    "    with open('neg.txt', 'w') as f:\n",
    "        # loop over all the filenames\n",
    "        for filename in os.listdir('negative'):\n",
    "            f.write('negative/' + filename + '\\n')\n",
    "            \n",
    "generate_negative_description_file()"
   ]
  }
 ],
 "metadata": {
  "kernelspec": {
   "display_name": "Python 3 (ipykernel)",
   "language": "python",
   "name": "python3"
  },
  "language_info": {
   "codemirror_mode": {
    "name": "ipython",
    "version": 3
   },
   "file_extension": ".py",
   "mimetype": "text/x-python",
   "name": "python",
   "nbconvert_exporter": "python",
   "pygments_lexer": "ipython3",
   "version": "3.9.12"
  }
 },
 "nbformat": 4,
 "nbformat_minor": 4
}
